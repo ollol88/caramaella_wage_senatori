{
 "cells": [
  {
   "cell_type": "code",
   "execution_count": 1,
   "id": "2c47e163",
   "metadata": {},
   "outputs": [
    {
     "data": {
      "text/plain": [
       "'\\ncheck\\nhttps://www.parlamento.it/1233  --> link per senatori e deputati\\n'"
      ]
     },
     "execution_count": 1,
     "metadata": {},
     "output_type": "execute_result"
    }
   ],
   "source": [
    "\"\"\"\n",
    "check\n",
    "https://www.parlamento.it/1233  --> link per senatori e deputati\n",
    "\"\"\""
   ]
  },
  {
   "cell_type": "code",
   "execution_count": 2,
   "id": "56efb98a",
   "metadata": {},
   "outputs": [],
   "source": [
    "#!pip install html5lib\n",
    "#!pip install bs4\n",
    "#!pip install pdf2image\n",
    "#!pip install fitz\n",
    "# #!pip install PyMuPDF\n",
    "# !pip install pytesseract\n",
    "# !pip install pillow\n",
    "#!sudo port install tesseract\n",
    "#!pip install opencv-python"
   ]
  },
  {
   "cell_type": "markdown",
   "id": "aa59e001",
   "metadata": {},
   "source": [
    "### imports\n",
    "import pandas as pd\n",
    "import requests\n",
    "import pdf2image"
   ]
  },
  {
   "cell_type": "code",
   "execution_count": 3,
   "id": "dcee3057",
   "metadata": {},
   "outputs": [],
   "source": [
    "import requests\n",
    "from bs4 import BeautifulSoup\n",
    "from PIL import Image\n",
    "from pytesseract import pytesseract\n",
    "import string\n",
    "import pandas as pd\n",
    "import fitz\n",
    "import os\n",
    "import tqdm\n",
    "import cv2\n",
    "import numpy as np"
   ]
  },
  {
   "cell_type": "markdown",
   "id": "bf636fa4",
   "metadata": {},
   "source": [
    "check structure of url from ex https://www.senato.it/leg/18/BGT/Schede/Attsen/Sena.html \n",
    "Final letter after 'Sen' is the alphabetical letter of family name"
   ]
  },
  {
   "cell_type": "code",
   "execution_count": 4,
   "id": "9c0426d0",
   "metadata": {},
   "outputs": [
    {
     "name": "stdout",
     "output_type": "stream",
     "text": [
      "['a', 'b', 'c', 'd', 'e', 'f', 'g', 'h', 'i', 'j', 'k', 'l', 'm', 'n', 'o', 'p', 'q', 'r', 's', 't', 'u', 'v', 'w', 'x', 'y', 'z']\n"
     ]
    }
   ],
   "source": [
    "# want to iterate through all the letters of the alphabet\n",
    "alphabet = list(string.ascii_lowercase)\n",
    "print(alphabet)"
   ]
  },
  {
   "cell_type": "code",
   "execution_count": 5,
   "id": "ade9721f",
   "metadata": {},
   "outputs": [
    {
     "name": "stdout",
     "output_type": "stream",
     "text": [
      "abcdefghijklmnop.\n",
      "qr.\n",
      "stuvwxyz"
     ]
    }
   ],
   "source": [
    "d = []\n",
    "\n",
    "for i in alphabet:\n",
    "    #url for each value of the alphabet\n",
    "    URL = \"https://www.senato.it/leg/18/BGT/Schede/Attsen/Sen{}.html\".format(i)\n",
    "    print(i, end='')\n",
    "    try:\n",
    "        r = requests.get(URL)\n",
    "        soup = BeautifulSoup(r.content)\n",
    "        mydivs = soup.find_all(\"div\", {\"class\": \"linkSenatore\"})\n",
    "        for x in mydivs:\n",
    "            # 1st iteration:\n",
    "            # for each name starting with 'A' I take the full name,\n",
    "            # the party of affiliation and the senato code\n",
    "            content = x.find_all('a', href=True)\n",
    "            d.append(\n",
    "                {\n",
    "                    'full_name': content[0].text,\n",
    "                    'affilitation': content[1].text,\n",
    "                    'code': x.find_all('a') [0]['href'] .split(\"&id=\",1)[1]\n",
    "                }\n",
    "            )        \n",
    "    except:\n",
    "        print('.')"
   ]
  },
  {
   "cell_type": "code",
   "execution_count": 6,
   "id": "0705f933",
   "metadata": {},
   "outputs": [
    {
     "data": {
      "text/html": [
       "<div>\n",
       "<style scoped>\n",
       "    .dataframe tbody tr th:only-of-type {\n",
       "        vertical-align: middle;\n",
       "    }\n",
       "\n",
       "    .dataframe tbody tr th {\n",
       "        vertical-align: top;\n",
       "    }\n",
       "\n",
       "    .dataframe thead th {\n",
       "        text-align: right;\n",
       "    }\n",
       "</style>\n",
       "<table border=\"1\" class=\"dataframe\">\n",
       "  <thead>\n",
       "    <tr style=\"text-align: right;\">\n",
       "      <th></th>\n",
       "      <th>full_name</th>\n",
       "      <th>affilitation</th>\n",
       "      <th>code</th>\n",
       "      <th>family_name</th>\n",
       "      <th>declaration_web</th>\n",
       "    </tr>\n",
       "  </thead>\n",
       "  <tbody>\n",
       "    <tr>\n",
       "      <th>0</th>\n",
       "      <td>ABATE Rosa Silvana</td>\n",
       "      <td>UpC-CAL-Alt-PC-AI-Pr.SMART-IdV</td>\n",
       "      <td>32576</td>\n",
       "      <td>Abate</td>\n",
       "      <td>http://senato.it/application/xmanager/projects...</td>\n",
       "    </tr>\n",
       "    <tr>\n",
       "      <th>1</th>\n",
       "      <td>ACCOTO Rossella</td>\n",
       "      <td>M5S</td>\n",
       "      <td>32577</td>\n",
       "      <td>Accoto</td>\n",
       "      <td>http://senato.it/application/xmanager/projects...</td>\n",
       "    </tr>\n",
       "  </tbody>\n",
       "</table>\n",
       "</div>"
      ],
      "text/plain": [
       "            full_name                    affilitation   code family_name  \\\n",
       "0  ABATE Rosa Silvana  UpC-CAL-Alt-PC-AI-Pr.SMART-IdV  32576       Abate   \n",
       "1     ACCOTO Rossella                             M5S  32577      Accoto   \n",
       "\n",
       "                                     declaration_web  \n",
       "0  http://senato.it/application/xmanager/projects...  \n",
       "1  http://senato.it/application/xmanager/projects...  "
      ]
     },
     "execution_count": 6,
     "metadata": {},
     "output_type": "execute_result"
    }
   ],
   "source": [
    "# create df with relevant infos\n",
    "df = pd.DataFrame(d)\n",
    "df['family_name'] = (\n",
    "    df['full_name'].str.split().str[0] # extract family name from full name,\n",
    "    .str.title()  #first letter uppercase rest lower as for url of declaration\n",
    ")\n",
    "# next create url to declaration\n",
    "url_declaration = 'http://senato.it/application/xmanager/projects/leg18/file/repository/documentaz_patr_17/2021/'\n",
    "df['declaration_web'] = url_declaration + df['family_name'].astype(str) + '_2021.pdf?'\n",
    "\n",
    "df.to_csv('df_base.csv', index=False)\n",
    "                                               \n",
    "df.head(2)\n"
   ]
  },
  {
   "cell_type": "markdown",
   "id": "d75efc71",
   "metadata": {},
   "source": [
    "check for example for the URL of declaration of one member of the senato\n",
    "https://www.senato.it/application/xmanager/projects/leg18/file/repository/documentaz_patr_17/2021/Abate_2021.pdf"
   ]
  },
  {
   "cell_type": "code",
   "execution_count": 8,
   "id": "664ef3d3",
   "metadata": {},
   "outputs": [],
   "source": [
    "#next we create as many folder as for the row and we store in them the 'dichiarazione dei redditi'"
   ]
  },
  {
   "cell_type": "code",
   "execution_count": 9,
   "id": "eb73dfff",
   "metadata": {},
   "outputs": [
    {
     "name": "stderr",
     "output_type": "stream",
     "text": [
      "100%|█████████████████████████████████████████| 315/315 [09:28<00:00,  1.81s/it]\n"
     ]
    }
   ],
   "source": [
    "folder_dichiarazione='dichiarazioni'\n",
    "\n",
    "# create a folder to store dichiarazione dei redditi\n",
    "current_directory = os.getcwd()\n",
    "final_directory = os.path.join(current_directory, folder_dichiarazione)\n",
    "if not os.path.exists(final_directory):\n",
    "   os.makedirs(final_directory)\n",
    "\n",
    "#for x in df['declaration_web'].to_list():\n",
    "\n",
    "\n",
    "for a, b in tqdm.tqdm(df[['family_name','declaration_web']].itertuples(index=False), total=df.shape[0]):\n",
    "    response = requests.get(b)\n",
    "    f = open(\n",
    "        os.path.join(folder_dichiarazione, a+'.pdf'),\n",
    "        'wb'\n",
    "    )\n",
    "    f.write(response.content)"
   ]
  },
  {
   "cell_type": "code",
   "execution_count": 10,
   "id": "7ab9af35",
   "metadata": {},
   "outputs": [],
   "source": [
    "dpi = 300  # choose desired dpi here\n",
    "zoom = dpi / 72  # zoom factor, standard: 72 dpi\n",
    "magnify = fitz.Matrix(zoom, zoom)  # magnifies in x, resp. y direction\n",
    "\n",
    "def split_doc_png(page):\n",
    "    \"\"\" split image into single page png\n",
    "    files\"\"\"\n",
    "    pix = page.get_pixmap(matrix=magnify)  # render page to an image\n",
    "    destination_input = \"{}/page_{}.png\".format(final_directory,page.number)\n",
    "    pix.save(destination_input)\n",
    "    return destination_input\n",
    "\n",
    "def render_image_bw(destination_input):\n",
    "    \"\"\" render image black and white to improve\n",
    "    text extraction\"\"\"\n",
    "    inputImage = cv2.imread(destination_input)\n",
    "\n",
    "    # Conversion to CMYK (just the K channel):\n",
    "\n",
    "    # Convert to float and divide by 255:\n",
    "    imgFloat = inputImage.astype(np.float64) / 255.\n",
    "\n",
    "    # Calculate channel K:\n",
    "    kChannel = 1 - np.max(imgFloat, axis=2)\n",
    "\n",
    "    # Convert back to uint 8:\n",
    "    kChannel = (255 * kChannel).astype(np.uint8)\n",
    "    \n",
    "    destination_output = \"{}/page_{}_out.png\".format(final_directory,page.number)\n",
    "    # Threshold image:\n",
    "    binaryThresh = 190\n",
    "    _, binaryImage = cv2.threshold(kChannel, binaryThresh, 255, cv2.THRESH_BINARY)\n",
    "    #cv2.imshow(\"binaryImage [closed]\", binaryImage)\n",
    "    cv2.imwrite(destination_output, binaryImage)\n",
    "    return destination_output"
   ]
  },
  {
   "cell_type": "code",
   "execution_count": 11,
   "id": "e06a33f3",
   "metadata": {},
   "outputs": [
    {
     "name": "stderr",
     "output_type": "stream",
     "text": [
      "  6%|██▍                                     | 19/315 [04:48<1:03:54, 12.95s/it]"
     ]
    },
    {
     "name": "stdout",
     "output_type": "stream",
     "text": [
      "failedBarboni\n"
     ]
    },
    {
     "name": "stderr",
     "output_type": "stream",
     "text": [
      "  8%|███▎                                      | 25/315 [05:55<58:59, 12.20s/it]"
     ]
    },
    {
     "name": "stdout",
     "output_type": "stream",
     "text": [
      "failedBertacco\n"
     ]
    },
    {
     "name": "stderr",
     "output_type": "stream",
     "text": [
      "  9%|███▊                                      | 29/315 [06:37<54:50, 11.51s/it]"
     ]
    },
    {
     "name": "stdout",
     "output_type": "stream",
     "text": [
      "failedBini\n",
      "failedBiti\n"
     ]
    },
    {
     "name": "stderr",
     "output_type": "stream",
     "text": [
      "\r",
      " 10%|████▎                                     | 32/315 [06:48<35:22,  7.50s/it]"
     ]
    },
    {
     "name": "stdout",
     "output_type": "stream",
     "text": [
      "failedBogo\n"
     ]
    },
    {
     "name": "stderr",
     "output_type": "stream",
     "text": [
      "\r",
      " 11%|████▌                                     | 34/315 [07:04<35:37,  7.61s/it]"
     ]
    },
    {
     "name": "stdout",
     "output_type": "stream",
     "text": [
      "failedBonfrisco\n"
     ]
    },
    {
     "name": "stderr",
     "output_type": "stream",
     "text": [
      " 13%|█████                                   | 40/315 [08:32<1:04:00, 13.97s/it]"
     ]
    },
    {
     "name": "stdout",
     "output_type": "stream",
     "text": [
      "failedBossi\n",
      "failedBossi\n"
     ]
    },
    {
     "name": "stderr",
     "output_type": "stream",
     "text": [
      " 18%|███████▏                                | 57/315 [12:43<1:09:14, 16.10s/it]"
     ]
    },
    {
     "name": "stdout",
     "output_type": "stream",
     "text": [
      "failedCantu'\n"
     ]
    },
    {
     "name": "stderr",
     "output_type": "stream",
     "text": [
      " 23%|█████████▊                                | 74/315 [16:42<59:34, 14.83s/it]"
     ]
    },
    {
     "name": "stdout",
     "output_type": "stream",
     "text": [
      "failedCirinna'\n"
     ]
    },
    {
     "name": "stderr",
     "output_type": "stream",
     "text": [
      " 28%|███████████▌                              | 87/315 [19:52<55:57, 14.73s/it]"
     ]
    },
    {
     "name": "stdout",
     "output_type": "stream",
     "text": [
      "failedD'Alfonso\n",
      "failedDal\n"
     ]
    },
    {
     "name": "stderr",
     "output_type": "stream",
     "text": [
      "\r",
      " 29%|████████████                              | 90/315 [20:08<35:01,  9.34s/it]"
     ]
    },
    {
     "name": "stdout",
     "output_type": "stream",
     "text": [
      "failedD'Angelo\n",
      "failedD'Arienzo\n",
      "failedDe\n",
      "failedDe\n",
      "failedDe\n",
      "failedDe\n",
      "failedDe\n",
      "failedDell'Olio\n",
      "failedDe\n",
      "failedDe\n",
      "failedDe\n",
      "failedDe\n",
      "failedDessi'\n",
      "failedDe\n",
      "failedDi\n",
      "failedDi\n",
      "failedDi\n",
      "failedDi\n",
      "failedDi\n"
     ]
    },
    {
     "name": "stderr",
     "output_type": "stream",
     "text": [
      " 44%|█████████████████▉                       | 138/315 [28:06<34:32, 11.71s/it]"
     ]
    },
    {
     "name": "stdout",
     "output_type": "stream",
     "text": [
      "failedGarnero\n"
     ]
    },
    {
     "name": "stderr",
     "output_type": "stream",
     "text": [
      " 50%|████████████████████▌                    | 158/315 [33:07<44:03, 16.84s/it]"
     ]
    },
    {
     "name": "stdout",
     "output_type": "stream",
     "text": [
      "failedL'Abbate\n"
     ]
    },
    {
     "name": "stderr",
     "output_type": "stream",
     "text": [
      "\r",
      " 51%|████████████████████▊                    | 160/315 [33:21<31:20, 12.13s/it]"
     ]
    },
    {
     "name": "stdout",
     "output_type": "stream",
     "text": [
      "failedLa\n"
     ]
    },
    {
     "name": "stderr",
     "output_type": "stream",
     "text": [
      " 52%|█████████████████████▎                   | 164/315 [33:57<27:05, 10.77s/it]"
     ]
    },
    {
     "name": "stdout",
     "output_type": "stream",
     "text": [
      "failedLa\n",
      "failedLa\n"
     ]
    },
    {
     "name": "stderr",
     "output_type": "stream",
     "text": [
      " 56%|███████████████████████                  | 177/315 [36:21<33:29, 14.57s/it]"
     ]
    },
    {
     "name": "stdout",
     "output_type": "stream",
     "text": [
      "failedMagoni\n"
     ]
    },
    {
     "name": "stderr",
     "output_type": "stream",
     "text": [
      " 61%|█████████████████████████                | 193/315 [39:53<27:43, 13.63s/it]"
     ]
    },
    {
     "name": "stdout",
     "output_type": "stream",
     "text": [
      "failedMarsilio\n"
     ]
    },
    {
     "name": "stderr",
     "output_type": "stream",
     "text": [
      " 63%|██████████████████████████               | 200/315 [41:35<28:57, 15.11s/it]"
     ]
    },
    {
     "name": "stdout",
     "output_type": "stream",
     "text": [
      "failedMessina\n",
      "failedMessina\n"
     ]
    },
    {
     "name": "stderr",
     "output_type": "stream",
     "text": [
      " 71%|█████████████████████████████▏           | 224/315 [47:38<20:38, 13.61s/it]"
     ]
    },
    {
     "name": "stdout",
     "output_type": "stream",
     "text": [
      "failedOrtolani\n"
     ]
    },
    {
     "name": "stderr",
     "output_type": "stream",
     "text": [
      " 72%|█████████████████████████████▋           | 228/315 [48:17<17:08, 11.82s/it]"
     ]
    },
    {
     "name": "stdout",
     "output_type": "stream",
     "text": [
      "failedPapaevangeliu\n"
     ]
    },
    {
     "name": "stderr",
     "output_type": "stream",
     "text": [
      " 74%|██████████████████████████████▍          | 234/315 [49:31<18:46, 13.91s/it]"
     ]
    },
    {
     "name": "stdout",
     "output_type": "stream",
     "text": [
      "failedPatriarca\n"
     ]
    },
    {
     "name": "stderr",
     "output_type": "stream",
     "text": [
      " 76%|██████████████████████████████▉          | 238/315 [50:19<17:26, 13.59s/it]"
     ]
    },
    {
     "name": "stdout",
     "output_type": "stream",
     "text": [
      "failedPellegrini\n",
      "failedPellegrini\n"
     ]
    },
    {
     "name": "stderr",
     "output_type": "stream",
     "text": [
      " 86%|███████████████████████████████████▍     | 272/315 [57:34<10:22, 14.47s/it]"
     ]
    },
    {
     "name": "stdout",
     "output_type": "stream",
     "text": [
      "failedSaviane\n"
     ]
    },
    {
     "name": "stderr",
     "output_type": "stream",
     "text": [
      " 90%|████████████████████████████████████▋    | 282/315 [59:23<06:27, 11.73s/it]"
     ]
    },
    {
     "name": "stdout",
     "output_type": "stream",
     "text": [
      "failedSolinas\n"
     ]
    },
    {
     "name": "stderr",
     "output_type": "stream",
     "text": [
      "\r",
      " 90%|███████████████████████████████████▏   | 284/315 [1:01:25<17:40, 34.22s/it]"
     ]
    },
    {
     "name": "stdout",
     "output_type": "stream",
     "text": [
      "failedStancanelli\n"
     ]
    },
    {
     "name": "stderr",
     "output_type": "stream",
     "text": [
      " 92%|████████████████████████████████████   | 291/315 [1:04:02<12:07, 30.30s/it]"
     ]
    },
    {
     "name": "stdout",
     "output_type": "stream",
     "text": [
      "failedTesei\n"
     ]
    },
    {
     "name": "stderr",
     "output_type": "stream",
     "text": [
      "100%|███████████████████████████████████████| 315/315 [1:09:53<00:00, 13.31s/it]\n"
     ]
    }
   ],
   "source": [
    "d_trascript = []\n",
    "\n",
    "# loop through all files\n",
    "for a in tqdm.tqdm(df['family_name'], total=df.shape[0]):\n",
    "    try:\n",
    "        report_str = '' # initialize empty text\n",
    "        #print(a)\n",
    "        file_path = os.path.join(folder_dichiarazione, a +'.pdf')  #pointer to file\n",
    "        doc = fitz.open(file_path)  # open document\n",
    "\n",
    "        final_directory = os.path.join(current_directory, folder_dichiarazione, a)  # store single pages documents in here\n",
    "        if not os.path.exists(final_directory):\n",
    "           os.makedirs(final_directory)\n",
    "        for page in doc:\n",
    "            destination_input = split_doc_png(page)  #png single pages\n",
    "            destination_output = render_image_bw(destination_input)  #render image in black and white\n",
    "            #print(destination_output)\n",
    "            img = Image.open(destination_output)\n",
    "            text = pytesseract.image_to_string(img, lang='ita')  #get text out of images\n",
    "            report_str += text  #add all the pages\n",
    "\n",
    "        # store results\n",
    "        d_trascript.append(\n",
    "            {\n",
    "                'family_name': a,\n",
    "                'transcript': report_str\n",
    "            }\n",
    "        )\n",
    "    except:\n",
    "        print('failed' + a)\n"
   ]
  },
  {
   "cell_type": "code",
   "execution_count": 12,
   "id": "477ff5da",
   "metadata": {},
   "outputs": [
    {
     "data": {
      "text/html": [
       "<div>\n",
       "<style scoped>\n",
       "    .dataframe tbody tr th:only-of-type {\n",
       "        vertical-align: middle;\n",
       "    }\n",
       "\n",
       "    .dataframe tbody tr th {\n",
       "        vertical-align: top;\n",
       "    }\n",
       "\n",
       "    .dataframe thead th {\n",
       "        text-align: right;\n",
       "    }\n",
       "</style>\n",
       "<table border=\"1\" class=\"dataframe\">\n",
       "  <thead>\n",
       "    <tr style=\"text-align: right;\">\n",
       "      <th></th>\n",
       "      <th>family_name</th>\n",
       "      <th>transcript</th>\n",
       "    </tr>\n",
       "  </thead>\n",
       "  <tbody>\n",
       "    <tr>\n",
       "      <th>0</th>\n",
       "      <td>Abate</td>\n",
       "      <td>Senato cella Repubblica\\nServizio delle preros...</td>\n",
       "    </tr>\n",
       "    <tr>\n",
       "      <th>1</th>\n",
       "      <td>Accoto</td>\n",
       "      <td>. MopuLo C\\nSénaio della Repubblica od\\n\\nServ...</td>\n",
       "    </tr>\n",
       "    <tr>\n",
       "      <th>2</th>\n",
       "      <td>Agostinelli</td>\n",
       "      <td>iS N n .\\n2Ò Moputo C\\nSenato della Repubblica...</td>\n",
       "    </tr>\n",
       "    <tr>\n",
       "      <th>3</th>\n",
       "      <td>Aimi</td>\n",
       "      <td>Senato delia Repubblica\\n\\nServi\\nStoll\\n\\nell...</td>\n",
       "    </tr>\n",
       "    <tr>\n",
       "      <th>4</th>\n",
       "      <td>Airola</td>\n",
       "      <td>) MopuLo C\\nSenato della Repubblica\\n\\nServizi...</td>\n",
       "    </tr>\n",
       "  </tbody>\n",
       "</table>\n",
       "</div>"
      ],
      "text/plain": [
       "   family_name                                         transcript\n",
       "0        Abate  Senato cella Repubblica\\nServizio delle preros...\n",
       "1       Accoto  . MopuLo C\\nSénaio della Repubblica od\\n\\nServ...\n",
       "2  Agostinelli  iS N n .\\n2Ò Moputo C\\nSenato della Repubblica...\n",
       "3         Aimi  Senato delia Repubblica\\n\\nServi\\nStoll\\n\\nell...\n",
       "4       Airola  ) MopuLo C\\nSenato della Repubblica\\n\\nServizi..."
      ]
     },
     "execution_count": 12,
     "metadata": {},
     "output_type": "execute_result"
    }
   ],
   "source": [
    "df_trascript = pd.DataFrame(d_trascript)\n",
    "df_trascript.to_csv('df_trascript.csv', index=False)\n",
    "df_trascript.head()"
   ]
  },
  {
   "cell_type": "code",
   "execution_count": 13,
   "id": "8626eb8f",
   "metadata": {},
   "outputs": [
    {
     "data": {
      "text/html": [
       "<div>\n",
       "<style scoped>\n",
       "    .dataframe tbody tr th:only-of-type {\n",
       "        vertical-align: middle;\n",
       "    }\n",
       "\n",
       "    .dataframe tbody tr th {\n",
       "        vertical-align: top;\n",
       "    }\n",
       "\n",
       "    .dataframe thead th {\n",
       "        text-align: right;\n",
       "    }\n",
       "</style>\n",
       "<table border=\"1\" class=\"dataframe\">\n",
       "  <thead>\n",
       "    <tr style=\"text-align: right;\">\n",
       "      <th></th>\n",
       "      <th>family_name</th>\n",
       "      <th>transcript</th>\n",
       "    </tr>\n",
       "  </thead>\n",
       "  <tbody>\n",
       "    <tr>\n",
       "      <th>0</th>\n",
       "      <td>Abate</td>\n",
       "      <td>Senato cella Repubblica\\nServizio delle preros...</td>\n",
       "    </tr>\n",
       "    <tr>\n",
       "      <th>1</th>\n",
       "      <td>Accoto</td>\n",
       "      <td>. MopuLo C\\nSénaio della Repubblica od\\n\\nServ...</td>\n",
       "    </tr>\n",
       "    <tr>\n",
       "      <th>2</th>\n",
       "      <td>Agostinelli</td>\n",
       "      <td>iS N n .\\n2Ò Moputo C\\nSenato della Repubblica...</td>\n",
       "    </tr>\n",
       "    <tr>\n",
       "      <th>3</th>\n",
       "      <td>Aimi</td>\n",
       "      <td>Senato delia Repubblica\\n\\nServi\\nStoll\\n\\nell...</td>\n",
       "    </tr>\n",
       "    <tr>\n",
       "      <th>4</th>\n",
       "      <td>Airola</td>\n",
       "      <td>) MopuLo C\\nSenato della Repubblica\\n\\nServizi...</td>\n",
       "    </tr>\n",
       "  </tbody>\n",
       "</table>\n",
       "</div>"
      ],
      "text/plain": [
       "   family_name                                         transcript\n",
       "0        Abate  Senato cella Repubblica\\nServizio delle preros...\n",
       "1       Accoto  . MopuLo C\\nSénaio della Repubblica od\\n\\nServ...\n",
       "2  Agostinelli  iS N n .\\n2Ò Moputo C\\nSenato della Repubblica...\n",
       "3         Aimi  Senato delia Repubblica\\n\\nServi\\nStoll\\n\\nell...\n",
       "4       Airola  ) MopuLo C\\nSenato della Repubblica\\n\\nServizi..."
      ]
     },
     "execution_count": 13,
     "metadata": {},
     "output_type": "execute_result"
    }
   ],
   "source": [
    "df = pd.read_csv('df_trascript.csv')\n",
    "df.head()"
   ]
  },
  {
   "cell_type": "code",
   "execution_count": null,
   "id": "92d8f0ca",
   "metadata": {},
   "outputs": [],
   "source": []
  }
 ],
 "metadata": {
  "hide_input": false,
  "kernelspec": {
   "display_name": "Python 3 (ipykernel)",
   "language": "python",
   "name": "python3"
  },
  "language_info": {
   "codemirror_mode": {
    "name": "ipython",
    "version": 3
   },
   "file_extension": ".py",
   "mimetype": "text/x-python",
   "name": "python",
   "nbconvert_exporter": "python",
   "pygments_lexer": "ipython3",
   "version": "3.9.12"
  }
 },
 "nbformat": 4,
 "nbformat_minor": 5
}
